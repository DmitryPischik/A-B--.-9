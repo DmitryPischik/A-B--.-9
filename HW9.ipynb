{
 "cells": [
  {
   "cell_type": "code",
   "execution_count": 1,
   "id": "d29b9fda",
   "metadata": {},
   "outputs": [],
   "source": [
    "import numpy as np\n",
    "import pandas as pd\n",
    "\n",
    "import scipy.stats as stats\n",
    "from statsmodels.stats import proportion\n",
    "#from statsmodels.stats.power import TTestIndPower\n",
    "import statsmodels.stats.power as smp\n",
    "\n",
    "import matplotlib.pyplot as plt\n",
    "import seaborn as sns\n",
    "\n",
    "import warnings\n",
    "warnings.filterwarnings('ignore')"
   ]
  },
  {
   "cell_type": "markdown",
   "id": "82270c07",
   "metadata": {},
   "source": [
    "### Задание\n",
    "Проанализируйте результаты эксперимента и напишите свои рекомендации менеджеру.\n",
    "Mobile Games AB Testing with Cookie Cats"
   ]
  },
  {
   "cell_type": "code",
   "execution_count": 2,
   "id": "ce839053",
   "metadata": {},
   "outputs": [
    {
     "data": {
      "text/html": [
       "<div>\n",
       "<style scoped>\n",
       "    .dataframe tbody tr th:only-of-type {\n",
       "        vertical-align: middle;\n",
       "    }\n",
       "\n",
       "    .dataframe tbody tr th {\n",
       "        vertical-align: top;\n",
       "    }\n",
       "\n",
       "    .dataframe thead th {\n",
       "        text-align: right;\n",
       "    }\n",
       "</style>\n",
       "<table border=\"1\" class=\"dataframe\">\n",
       "  <thead>\n",
       "    <tr style=\"text-align: right;\">\n",
       "      <th></th>\n",
       "      <th>userid</th>\n",
       "      <th>version</th>\n",
       "      <th>sum_gamerounds</th>\n",
       "      <th>retention_1</th>\n",
       "      <th>retention_7</th>\n",
       "    </tr>\n",
       "  </thead>\n",
       "  <tbody>\n",
       "    <tr>\n",
       "      <th>0</th>\n",
       "      <td>116</td>\n",
       "      <td>gate_30</td>\n",
       "      <td>3</td>\n",
       "      <td>0</td>\n",
       "      <td>0</td>\n",
       "    </tr>\n",
       "    <tr>\n",
       "      <th>1</th>\n",
       "      <td>337</td>\n",
       "      <td>gate_30</td>\n",
       "      <td>38</td>\n",
       "      <td>1</td>\n",
       "      <td>0</td>\n",
       "    </tr>\n",
       "    <tr>\n",
       "      <th>2</th>\n",
       "      <td>377</td>\n",
       "      <td>gate_40</td>\n",
       "      <td>165</td>\n",
       "      <td>1</td>\n",
       "      <td>0</td>\n",
       "    </tr>\n",
       "    <tr>\n",
       "      <th>3</th>\n",
       "      <td>483</td>\n",
       "      <td>gate_40</td>\n",
       "      <td>1</td>\n",
       "      <td>0</td>\n",
       "      <td>0</td>\n",
       "    </tr>\n",
       "    <tr>\n",
       "      <th>4</th>\n",
       "      <td>488</td>\n",
       "      <td>gate_40</td>\n",
       "      <td>179</td>\n",
       "      <td>1</td>\n",
       "      <td>1</td>\n",
       "    </tr>\n",
       "  </tbody>\n",
       "</table>\n",
       "</div>"
      ],
      "text/plain": [
       "   userid  version  sum_gamerounds  retention_1  retention_7\n",
       "0     116  gate_30               3            0            0\n",
       "1     337  gate_30              38            1            0\n",
       "2     377  gate_40             165            1            0\n",
       "3     483  gate_40               1            0            0\n",
       "4     488  gate_40             179            1            1"
      ]
     },
     "execution_count": 2,
     "metadata": {},
     "output_type": "execute_result"
    }
   ],
   "source": [
    "df = pd.read_excel('результаты А_B.xlsx')\n",
    "df.head()"
   ]
  },
  {
   "cell_type": "markdown",
   "id": "6c1031c0",
   "metadata": {},
   "source": [
    "userid - уникальный номер, который идентифицирует каждого игрока.\n",
    "\n",
    "version - Был ли игрок поставлен в контрольную группу (gate_30 - ворота 30 уровня) или в группу с перемещенными воротами (gate_40 - ворота 40 уровня).\n",
    "\n",
    "sumgamerounds - количество раундов, сыгранных каждым игроком в течение первых 14 дней после установки.\n",
    "\n",
    "retention_1 - Вернулся ли игрок в игру через 1 день после установки.\n",
    "\n",
    "retention_7 - Вернулся ли игрок в игру через 7 дней после установки."
   ]
  },
  {
   "cell_type": "code",
   "execution_count": 3,
   "id": "4242b36e",
   "metadata": {},
   "outputs": [
    {
     "name": "stdout",
     "output_type": "stream",
     "text": [
      "<class 'pandas.core.frame.DataFrame'>\n",
      "RangeIndex: 90189 entries, 0 to 90188\n",
      "Data columns (total 5 columns):\n",
      " #   Column          Non-Null Count  Dtype \n",
      "---  ------          --------------  ----- \n",
      " 0   userid          90189 non-null  int64 \n",
      " 1   version         90189 non-null  object\n",
      " 2   sum_gamerounds  90189 non-null  int64 \n",
      " 3   retention_1     90189 non-null  int64 \n",
      " 4   retention_7     90189 non-null  int64 \n",
      "dtypes: int64(4), object(1)\n",
      "memory usage: 3.4+ MB\n"
     ]
    }
   ],
   "source": [
    "df.info()"
   ]
  },
  {
   "cell_type": "code",
   "execution_count": 4,
   "id": "9d9dd888",
   "metadata": {},
   "outputs": [
    {
     "data": {
      "text/plain": [
       "userid            0\n",
       "version           0\n",
       "sum_gamerounds    0\n",
       "retention_1       0\n",
       "retention_7       0\n",
       "dtype: int64"
      ]
     },
     "execution_count": 4,
     "metadata": {},
     "output_type": "execute_result"
    }
   ],
   "source": [
    "df.isna().sum()"
   ]
  },
  {
   "cell_type": "code",
   "execution_count": 5,
   "id": "48ef70cd",
   "metadata": {},
   "outputs": [
    {
     "data": {
      "text/html": [
       "<div>\n",
       "<style scoped>\n",
       "    .dataframe tbody tr th:only-of-type {\n",
       "        vertical-align: middle;\n",
       "    }\n",
       "\n",
       "    .dataframe tbody tr th {\n",
       "        vertical-align: top;\n",
       "    }\n",
       "\n",
       "    .dataframe thead th {\n",
       "        text-align: right;\n",
       "    }\n",
       "</style>\n",
       "<table border=\"1\" class=\"dataframe\">\n",
       "  <thead>\n",
       "    <tr style=\"text-align: right;\">\n",
       "      <th></th>\n",
       "      <th>userid</th>\n",
       "      <th>version</th>\n",
       "    </tr>\n",
       "  </thead>\n",
       "  <tbody>\n",
       "  </tbody>\n",
       "</table>\n",
       "</div>"
      ],
      "text/plain": [
       "Empty DataFrame\n",
       "Columns: [userid, version]\n",
       "Index: []"
      ]
     },
     "execution_count": 5,
     "metadata": {},
     "output_type": "execute_result"
    }
   ],
   "source": [
    "df.groupby('userid', as_index=False).agg({'version': pd.Series.nunique}).query('version > 1')"
   ]
  },
  {
   "cell_type": "code",
   "execution_count": 6,
   "id": "713edb17",
   "metadata": {},
   "outputs": [
    {
     "data": {
      "text/plain": [
       "0"
      ]
     },
     "execution_count": 6,
     "metadata": {},
     "output_type": "execute_result"
    }
   ],
   "source": [
    "df.duplicated().sum()"
   ]
  },
  {
   "cell_type": "code",
   "execution_count": 7,
   "id": "cdf451f2",
   "metadata": {},
   "outputs": [
    {
     "data": {
      "text/plain": [
       "90189"
      ]
     },
     "execution_count": 7,
     "metadata": {},
     "output_type": "execute_result"
    }
   ],
   "source": [
    "\n",
    "df[\"userid\"].nunique()"
   ]
  },
  {
   "cell_type": "code",
   "execution_count": 8,
   "id": "d817ecb5",
   "metadata": {},
   "outputs": [
    {
     "data": {
      "text/html": [
       "<div>\n",
       "<style scoped>\n",
       "    .dataframe tbody tr th:only-of-type {\n",
       "        vertical-align: middle;\n",
       "    }\n",
       "\n",
       "    .dataframe tbody tr th {\n",
       "        vertical-align: top;\n",
       "    }\n",
       "\n",
       "    .dataframe thead th {\n",
       "        text-align: right;\n",
       "    }\n",
       "</style>\n",
       "<table border=\"1\" class=\"dataframe\">\n",
       "  <thead>\n",
       "    <tr style=\"text-align: right;\">\n",
       "      <th></th>\n",
       "      <th>sum_gamerounds</th>\n",
       "      <th>retention_1</th>\n",
       "      <th>retention_7</th>\n",
       "    </tr>\n",
       "  </thead>\n",
       "  <tbody>\n",
       "    <tr>\n",
       "      <th>count</th>\n",
       "      <td>90189.000000</td>\n",
       "      <td>90189.000000</td>\n",
       "      <td>90189.000000</td>\n",
       "    </tr>\n",
       "    <tr>\n",
       "      <th>mean</th>\n",
       "      <td>51.872457</td>\n",
       "      <td>0.445210</td>\n",
       "      <td>0.186065</td>\n",
       "    </tr>\n",
       "    <tr>\n",
       "      <th>std</th>\n",
       "      <td>195.050858</td>\n",
       "      <td>0.496992</td>\n",
       "      <td>0.389161</td>\n",
       "    </tr>\n",
       "    <tr>\n",
       "      <th>min</th>\n",
       "      <td>0.000000</td>\n",
       "      <td>0.000000</td>\n",
       "      <td>0.000000</td>\n",
       "    </tr>\n",
       "    <tr>\n",
       "      <th>25%</th>\n",
       "      <td>5.000000</td>\n",
       "      <td>0.000000</td>\n",
       "      <td>0.000000</td>\n",
       "    </tr>\n",
       "    <tr>\n",
       "      <th>50%</th>\n",
       "      <td>16.000000</td>\n",
       "      <td>0.000000</td>\n",
       "      <td>0.000000</td>\n",
       "    </tr>\n",
       "    <tr>\n",
       "      <th>75%</th>\n",
       "      <td>51.000000</td>\n",
       "      <td>1.000000</td>\n",
       "      <td>0.000000</td>\n",
       "    </tr>\n",
       "    <tr>\n",
       "      <th>max</th>\n",
       "      <td>49854.000000</td>\n",
       "      <td>1.000000</td>\n",
       "      <td>1.000000</td>\n",
       "    </tr>\n",
       "  </tbody>\n",
       "</table>\n",
       "</div>"
      ],
      "text/plain": [
       "       sum_gamerounds   retention_1   retention_7\n",
       "count    90189.000000  90189.000000  90189.000000\n",
       "mean        51.872457      0.445210      0.186065\n",
       "std        195.050858      0.496992      0.389161\n",
       "min          0.000000      0.000000      0.000000\n",
       "25%          5.000000      0.000000      0.000000\n",
       "50%         16.000000      0.000000      0.000000\n",
       "75%         51.000000      1.000000      0.000000\n",
       "max      49854.000000      1.000000      1.000000"
      ]
     },
     "execution_count": 8,
     "metadata": {},
     "output_type": "execute_result"
    }
   ],
   "source": [
    "df[['sum_gamerounds', 'retention_1', 'retention_7']].describe()"
   ]
  },
  {
   "cell_type": "code",
   "execution_count": 9,
   "id": "18d838b5",
   "metadata": {},
   "outputs": [],
   "source": [
    "#Уберем аномальный выброс в поле sum_gamerounds.\n",
    "df = df[df['sum_gamerounds'] < 49000]"
   ]
  },
  {
   "cell_type": "code",
   "execution_count": 10,
   "id": "bfc47e61",
   "metadata": {},
   "outputs": [
    {
     "data": {
      "text/plain": [
       "version\n",
       "gate_40    45489\n",
       "gate_30    44699\n",
       "Name: count, dtype: int64"
      ]
     },
     "execution_count": 10,
     "metadata": {},
     "output_type": "execute_result"
    }
   ],
   "source": [
    "df['version'].value_counts()"
   ]
  },
  {
   "cell_type": "code",
   "execution_count": 11,
   "id": "76c3e2e4",
   "metadata": {},
   "outputs": [
    {
     "data": {
      "text/plain": [
       "retention_1\n",
       "0    50035\n",
       "1    40153\n",
       "Name: count, dtype: int64"
      ]
     },
     "execution_count": 11,
     "metadata": {},
     "output_type": "execute_result"
    }
   ],
   "source": [
    "df['retention_1'].value_counts()"
   ]
  },
  {
   "cell_type": "code",
   "execution_count": 12,
   "id": "885245a3",
   "metadata": {},
   "outputs": [
    {
     "data": {
      "text/plain": [
       "retention_7\n",
       "0    73408\n",
       "1    16780\n",
       "Name: count, dtype: int64"
      ]
     },
     "execution_count": 12,
     "metadata": {},
     "output_type": "execute_result"
    }
   ],
   "source": [
    "df['retention_7'].value_counts()"
   ]
  },
  {
   "cell_type": "code",
   "execution_count": 13,
   "id": "65cb2d37",
   "metadata": {},
   "outputs": [
    {
     "data": {
      "text/html": [
       "<div>\n",
       "<style scoped>\n",
       "    .dataframe tbody tr th:only-of-type {\n",
       "        vertical-align: middle;\n",
       "    }\n",
       "\n",
       "    .dataframe tbody tr th {\n",
       "        vertical-align: top;\n",
       "    }\n",
       "\n",
       "    .dataframe thead th {\n",
       "        text-align: right;\n",
       "    }\n",
       "</style>\n",
       "<table border=\"1\" class=\"dataframe\">\n",
       "  <thead>\n",
       "    <tr style=\"text-align: right;\">\n",
       "      <th></th>\n",
       "      <th>userid</th>\n",
       "      <th>retention_1</th>\n",
       "      <th>retention_7</th>\n",
       "      <th>sum_gamerounds</th>\n",
       "    </tr>\n",
       "    <tr>\n",
       "      <th>version</th>\n",
       "      <th></th>\n",
       "      <th></th>\n",
       "      <th></th>\n",
       "      <th></th>\n",
       "    </tr>\n",
       "  </thead>\n",
       "  <tbody>\n",
       "    <tr>\n",
       "      <th>gate_30</th>\n",
       "      <td>44699</td>\n",
       "      <td>0.448198</td>\n",
       "      <td>0.190183</td>\n",
       "      <td>2294941</td>\n",
       "    </tr>\n",
       "    <tr>\n",
       "      <th>gate_40</th>\n",
       "      <td>45489</td>\n",
       "      <td>0.442283</td>\n",
       "      <td>0.182000</td>\n",
       "      <td>2333530</td>\n",
       "    </tr>\n",
       "  </tbody>\n",
       "</table>\n",
       "</div>"
      ],
      "text/plain": [
       "         userid  retention_1  retention_7  sum_gamerounds\n",
       "version                                                  \n",
       "gate_30   44699     0.448198     0.190183         2294941\n",
       "gate_40   45489     0.442283     0.182000         2333530"
      ]
     },
     "execution_count": 13,
     "metadata": {},
     "output_type": "execute_result"
    }
   ],
   "source": [
    "df.groupby('version').agg({'userid': 'count', 'retention_1': 'mean', 'retention_7': 'mean', 'sum_gamerounds': sum})"
   ]
  },
  {
   "cell_type": "markdown",
   "id": "77ede224",
   "metadata": {},
   "source": [
    "### Анализ исходных данных показал:\n",
    "\n",
    "1. Пустых данных в выборке нет.\n",
    "2. Количество пользователей в группах gate_30/gate_40 примерно одинаковое, дублей в userid нет - система сплитования трафика отраболала хорошо.\n",
    "3. Отрицательных (ошибочных) значений в выборке нет.\n",
    "4. Поле version имеет два значения gate_30/gate_40 - ошибочных значений нет.\n",
    "5. Поля retention_1 и retention_7 содержит два значения: 0/1 - ошибочных значений нет."
   ]
  },
  {
   "cell_type": "markdown",
   "id": "171cf751",
   "metadata": {},
   "source": [
    "### Метрика: количество раундов, сыгранных каждым игроком в течение первых 14 дней после установки."
   ]
  },
  {
   "cell_type": "code",
   "execution_count": 14,
   "id": "d2f6fe92",
   "metadata": {},
   "outputs": [
    {
     "data": {
      "image/png": "[encoded data removed]",
      "text/plain": [
       "<Figure size 640x480 with 2 Axes>"
      ]
     },
     "metadata": {},
     "output_type": "display_data"
    }
   ],
   "source": [
    "# Проверим данные на нормальность.\n",
    "A = df.query('version == \"gate_30\"')\n",
    "B = df.query('version == \"gate_40\"')\n",
    "n1, n2 = A.shape[0], B.shape[0]\n",
    "fig, ax = plt.subplots(2, 1, gridspec_kw={'height_ratios': [0.5, 2.5]})\n",
    "sns.boxplot(x=A['sum_gamerounds'], ax=ax[0]);\n",
    "sns.histplot(A['sum_gamerounds'], bins=100, ax=ax[1]);"
   ]
  },
  {
   "cell_type": "code",
   "execution_count": 15,
   "id": "ea1e4a43",
   "metadata": {},
   "outputs": [
    {
     "data": {
      "image/png": "[encoded data removed]",
      "text/plain": [
       "<Figure size 640x480 with 2 Axes>"
      ]
     },
     "metadata": {},
     "output_type": "display_data"
    }
   ],
   "source": [
    "fig, ax = plt.subplots(2, 1, gridspec_kw={'height_ratios': [0.5, 2.5]})\n",
    "sns.boxplot(x=B['sum_gamerounds'], ax=ax[0]);\n",
    "sns.histplot(B['sum_gamerounds'], bins=100, ax=ax[1]);"
   ]
  },
  {
   "cell_type": "code",
   "execution_count": 16,
   "id": "4bd4de40",
   "metadata": {},
   "outputs": [
    {
     "data": {
      "image/png": "[encoded data removed]",
      "text/plain": [
       "<Figure size 1200x600 with 2 Axes>"
      ]
     },
     "metadata": {},
     "output_type": "display_data"
    }
   ],
   "source": [
    "plt.figure(figsize = [6*2, 6])\n",
    "plt.subplot(1, 2, 1)\n",
    "norm = stats.probplot(A['sum_gamerounds'], dist=\"norm\", plot=plt)\n",
    "plt.subplot(1, 2, 2)\n",
    "norm = stats.probplot(B['sum_gamerounds'], dist=\"norm\", plot=plt)"
   ]
  },
  {
   "cell_type": "code",
   "execution_count": 17,
   "id": "ed9442d6",
   "metadata": {},
   "outputs": [
    {
     "data": {
      "text/plain": [
       "KstestResult(statistic=0.8724153079945488, pvalue=0.0, statistic_location=2, statistic_sign=-1)"
      ]
     },
     "execution_count": 17,
     "metadata": {},
     "output_type": "execute_result"
    }
   ],
   "source": [
    "stats.kstest(A['sum_gamerounds'], 'norm')"
   ]
  },
  {
   "cell_type": "markdown",
   "id": "fe5534fa",
   "metadata": {},
   "source": [
    "p-value < 0.05, следовательно предположение о нормальном распределени в группе А (gate_30) не верно."
   ]
  },
  {
   "cell_type": "code",
   "execution_count": 18,
   "id": "87dfdf50",
   "metadata": {},
   "outputs": [
    {
     "data": {
      "text/plain": [
       "KstestResult(statistic=0.8707186187388001, pvalue=0.0, statistic_location=2, statistic_sign=-1)"
      ]
     },
     "execution_count": 18,
     "metadata": {},
     "output_type": "execute_result"
    }
   ],
   "source": [
    "stats.kstest(B['sum_gamerounds'], 'norm')"
   ]
  },
  {
   "cell_type": "markdown",
   "id": "a16460e9",
   "metadata": {},
   "source": [
    "p-value < 0.05, следовательно предположение о нормальном распределени в группе B (gate_40) не верно."
   ]
  },
  {
   "cell_type": "code",
   "execution_count": 19,
   "id": "d9cae578",
   "metadata": {},
   "outputs": [
    {
     "data": {
      "text/plain": [
       "MannwhitneyuResult(statistic=1024285761.5, pvalue=0.05089155279145376)"
      ]
     },
     "execution_count": 19,
     "metadata": {},
     "output_type": "execute_result"
    }
   ],
   "source": [
    "# Данные распределены ненормально, поэтому для оценки равенства средних начений двух выборок используем критерий Манна-Уитни.\n",
    "stats.mannwhitneyu(x=A['sum_gamerounds'].values,\n",
    "                   y=B['sum_gamerounds'].values)"
   ]
  },
  {
   "cell_type": "markdown",
   "id": "5d38a5ee",
   "metadata": {},
   "source": [
    "Так как p-value > 0.05 то мы приманием нулевую гипотезу о равенстве средних значений количества раундов в двух выборках. Т.е. между gate_30 и gate_40 статистически значимых различий нет."
   ]
  },
  {
   "cell_type": "code",
   "execution_count": 20,
   "id": "23f4eee4",
   "metadata": {},
   "outputs": [
    {
     "data": {
      "text/plain": [
       "0.0004220261663113965"
      ]
     },
     "execution_count": 20,
     "metadata": {},
     "output_type": "execute_result"
    }
   ],
   "source": [
    "# Проверим, достаточна ли была мощность наших выборок, чтобы анализировать результаты.\n",
    "Ma, Mb = A['sum_gamerounds'].mean(), B['sum_gamerounds'].mean()\n",
    "Da, Db = A['sum_gamerounds'].var(), B['sum_gamerounds'].var()\n",
    "\n",
    "effect_size = (Ma-Mb)/np.sqrt(((n1-1)*Da + (n2-1)*Db)/(n1+n2-2))\n",
    "effect_size"
   ]
  },
  {
   "cell_type": "code",
   "execution_count": 21,
   "id": "daf53dbd",
   "metadata": {},
   "outputs": [
    {
     "data": {
      "text/plain": [
       "0.05046009024737232"
      ]
     },
     "execution_count": 21,
     "metadata": {},
     "output_type": "execute_result"
    }
   ],
   "source": [
    "analysis = smp.TTestIndPower()\n",
    "analysis.solve_power(effect_size=effect_size, alpha=0.05, power=None, nobs1=n1, ratio=n2/n1)"
   ]
  },
  {
   "cell_type": "markdown",
   "id": "3dbe2ec2",
   "metadata": {},
   "source": [
    "Для достоверного обнаружения эффекта в 1% нужно провести 156979 испытаний в каждой группе, итого 156979 * 2 = 313958."
   ]
  },
  {
   "cell_type": "markdown",
   "id": "8b60c43e",
   "metadata": {},
   "source": [
    "### Метрика: возвращение игрока в игру через 1 день после установки"
   ]
  },
  {
   "cell_type": "code",
   "execution_count": 23,
   "id": "95e6281c",
   "metadata": {},
   "outputs": [
    {
     "data": {
      "text/plain": [
       "(1.787103509763628, 0.0739207603418346)"
      ]
     },
     "execution_count": 23,
     "metadata": {},
     "output_type": "execute_result"
    }
   ],
   "source": [
    "# Проведем Z-тест пропорций на уровне значимости a = 0.05\n",
    "m1 = A['retention_1'].sum()\n",
    "m2 = B['retention_1'].sum()\n",
    "proportion.proportions_ztest(np.array([m1, m2]), np.array([n1, n2]), alternative='two-sided')"
   ]
  },
  {
   "cell_type": "markdown",
   "id": "712dbf3a",
   "metadata": {},
   "source": [
    "Так как p-value > 0.05 то мы приманием нулевую гипотезу о равенстве доли вернувшихся в игру через 1 день в двух выборках.\n",
    "В группах gate_30 и gate_40 не обнаружены статистически значимые отличия по retention_1."
   ]
  },
  {
   "cell_type": "markdown",
   "id": "75bc5a94",
   "metadata": {},
   "source": [
    "### Метрика: возвращение игрока в игру через 7 день после установки"
   ]
  },
  {
   "cell_type": "code",
   "execution_count": 24,
   "id": "2bee85e5",
   "metadata": {},
   "outputs": [
    {
     "data": {
      "text/plain": [
       "(3.1574100858819936, 0.0015917731773993442)"
      ]
     },
     "execution_count": 24,
     "metadata": {},
     "output_type": "execute_result"
    }
   ],
   "source": [
    "# Проведем Z-тест пропорций на уровне значимости  a = 0.05\n",
    "m1 = A.query('retention_7 == 1')['retention_7'].sum()\n",
    "m2 = B.query('retention_7 == 1')['retention_7'].sum()\n",
    "proportion.proportions_ztest(np.array([m1, m2]), np.array([n1, n2]))"
   ]
  },
  {
   "cell_type": "markdown",
   "id": "69623148",
   "metadata": {},
   "source": [
    "Так как p-value < 0.05 то мы отвергаем нулевую гипотезу о равенстве доли вернувшихся в игру через 7 день в двух выборках.\n",
    "В группах gate_30 и gate_40 обнаружены статистически значимые отличия по retention_7."
   ]
  },
  {
   "cell_type": "markdown",
   "id": "0ade3296",
   "metadata": {},
   "source": [
    "### В итоге рекомендуется:\n",
    "\n",
    "1. Не вводить изменения, на которых происходило тестирование группы B.\n",
    "2. Увеличить размер выборки до 314000. Это позволит, кроме увеличения мощности по кололичеству игр, поднять мощность тестов по метрикам возвращения игроков в игру.\n",
    "3. точнить дизайн А/В теста и запустить его заново."
   ]
  }
 ],
 "metadata": {
  "kernelspec": {
   "display_name": "Python 3 (ipykernel)",
   "language": "python",
   "name": "python3"
  },
  "language_info": {
   "codemirror_mode": {
    "name": "ipython",
    "version": 3
   },
   "file_extension": ".py",
   "mimetype": "text/x-python",
   "name": "python",
   "nbconvert_exporter": "python",
   "pygments_lexer": "ipython3",
   "version": "3.11.5"
  }
 },
 "nbformat": 4,
 "nbformat_minor": 5
}
